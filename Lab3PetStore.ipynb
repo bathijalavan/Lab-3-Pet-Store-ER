{
 "cells": [
  {
   "cell_type": "markdown",
   "metadata": {},
   "source": [
    "# LAB 3- Pet Shop ER Diagram\n",
    "### The purpose of our database is to help a pet store sift through the data collected through transactions and their loyalty program in order to display information about specific criteria; in this instance that information would be relative to the stores expenses, adoptions, purchases and the effects of their loyalty program. In order to do this we have created a database that takes the raw transaction info and helps sort it categorically using different keys such as PurchaseID, LoyaltyID etc. By breaking down the raw transactions and using attributes of these transactions we are able to differentiate between a tangible purchase and an adoption while maintaining a separation between those who are members of the loyalty program vs those who are merely a customer. The final function required is the ability for the database to calculate the expenses incurred by the store from feeding the pets the very food they sell prior to an adoption. In order to track this all pet food purchased by the store to use for the store is logged in a separate table which tracks which food is being used and calculates a total expense based on the quantity and types of food used. The functionality of this database is based around the store having a quality transaction method in place which allows for the differentiation of purchase based on the TransactionID; assuming such a system is in place all information begins at that table and then is broken down two one of three destinations; adoptions for pets or fish and regular purchases. While the loyalty and expenses operate separately from the three primary output tables they are still reliant on purchases as well as information such as if a loyaltyID was logged/used during checkout. One constraint of this model is the fact that we are assuming that the pet store is logging their usage of pet food as a purchase rather than simply taking it from the back of the store. Through the use of Crows Foot notation we were also able to set up the connectivity of our database without actually physically making it. This is a big deal because with the use of cardinality alongside crows foot we are able to objectively look at our database from a holistic point on view which focuses on connectivity. These top down viewpoints help provide clarity into the function of each part of the database as well as help distinguish why each table of values is beneficiary. \n",
    "\n",
    "<img style=\"width:480px;max-width:100%;|\" src=\"Lab3Petstore.jpg\" alt=\"Lab3Petstore\" title=\"Lab3Petstore\"/>"
   ]
  }
 ],
 "metadata": {
  "kernelspec": {
   "display_name": "Python 3",
   "language": "python",
   "name": "python3"
  },
  "language_info": {
   "codemirror_mode": {
    "name": "ipython",
    "version": 3
   },
   "file_extension": ".py",
   "mimetype": "text/x-python",
   "name": "python",
   "nbconvert_exporter": "python",
   "pygments_lexer": "ipython3",
   "version": "3.7.3"
  }
 },
 "nbformat": 4,
 "nbformat_minor": 2
}
